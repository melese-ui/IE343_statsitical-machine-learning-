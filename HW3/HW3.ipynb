{
 "cells": [
  {
   "cell_type": "markdown",
   "metadata": {},
   "source": [
    "# Homework 3 (Full mark: 250pt)\n",
    "- Questions 1~5: Conceptual\n",
    "- Questions 6~11: Programming"
   ]
  },
  {
   "cell_type": "markdown",
   "metadata": {},
   "source": [
    "# Conceptual questions"
   ]
  },
  {
   "cell_type": "markdown",
   "metadata": {},
   "source": [
    "# 1. Variance (10pt)\n",
    "\n",
    "**Using basic statistical properties of the variance, as well as single variable calculus, derive the below equation. In other words, prove that $\\alpha$ given below does indeed minimize $\\operatorname{Var}(\\alpha X+(1-\\alpha) Y)$.**\n",
    "\n",
    "$$\n",
    "\\begin{array}{c}\n",
    "\\alpha=\\frac{\\sigma_{Y}^{2}-\\sigma_{X Y}}{\\sigma_{X}^{2}+\\sigma_{Y}^{2}-2 \\sigma_{X Y}}\n",
    "\\end{array}\n",
    "$$"
   ]
  },
  {
   "cell_type": "code",
   "execution_count": null,
   "metadata": {},
   "outputs": [],
   "source": []
  },
  {
   "cell_type": "markdown",
   "metadata": {},
   "source": [
    "# 2. Estimating the standard deviation of prediction (10pt)\n",
    "**Suppose that we use some statistical learning method to make a prediction for the response Y for a particular value of the predictor X. Carefully describe how we might estimate the standard deviation of our prediction.**"
   ]
  },
  {
   "cell_type": "markdown",
   "metadata": {},
   "source": [
    "We can use bootstrap, meaning we can repeatdly sample observations from the original data set. If the procedure is repeated B  times with replacement we can estimate the predictions B times. Then we can calculate the mean of those estimates and calcualte the variance by summing up the squared differences of each estimates. The standard deviation is the square root. More specifically ; "
   ]
  },
  {
   "cell_type": "markdown",
   "metadata": {},
   "source": [
    "# 3. Subset selection method (15pt)"
   ]
  },
  {
   "cell_type": "markdown",
   "metadata": {},
   "source": [
    "**We perform best subset, forward stepwise, and backward stepwise selection on a single data set. For each approach, we obtain $p + 1$ models, containing $0, 1, 2,..., p$ predictors. Explain your answers:**"
   ]
  },
  {
   "cell_type": "markdown",
   "metadata": {},
   "source": [
    "**(a) Which of the three models with $k$ predictors has the smallest training RSS?**"
   ]
  },
  {
   "cell_type": "markdown",
   "metadata": {},
   "source": [
    "The best subset will have the smallest training RSS. Since the best subset conins all the models(C(p,k)) with k predictors, it contains the model with the lowest training RSS. In forward stepwise approach, among the p-k models that contain k predictors the one with the lowest training RSS is chosen. However, since forward stepwise does not contain all models with k predictors, it does not guarantee to give the best model with k predictors. In backward stepwise, among the K models which contain k predictors the one with the lowest training RSS is chosen. However, similarily to forward stepwise, it does not guarantee the best model. "
   ]
  },
  {
   "cell_type": "markdown",
   "metadata": {},
   "source": [
    "**(b) Which of the three models with $k$ predictors has the smallest test RSS?**"
   ]
  },
  {
   "cell_type": "markdown",
   "metadata": {},
   "source": [
    "We can't tell with 100% certainty as the lowest training RSS does not indicate the lowest test RSS. That means, the best model with p predictors for training might not be the best model for test."
   ]
  },
  {
   "cell_type": "markdown",
   "metadata": {},
   "source": [
    "(c) True or False:\n",
    "- i. The predictors in the k-variable model identified by forward stepwise are a subset of the predictors in the (k+1)-variable model identified by forward stepwise selection.\n",
    "- ii. The predictors in the k-variable model identified by backward stepwise are a subset of the predictors in the (k + 1)- variable model identified by backward stepwise selection.\n",
    "- iii. The predictors in the k-variable model identified by backward stepwise are a subset of the predictors in the (k + 1)- variable model identified by forward stepwise selection.\n",
    "- iv. The predictors in the k-variable model identified by forward stepwise are a subset of the predictors in the (k+1)-variable model identified by backward stepwise selection.\n",
    "- v. The predictors in the k-variable model identified by best subset are a subset of the predictors in the (k + 1)-variable model identified by best subset selection."
   ]
  },
  {
   "cell_type": "markdown",
   "metadata": {},
   "source": [
    "i. True. During forward stepwise once a certain predictor is in, it does not get out. So, the predictors in the K variable model will also be in K+1 variables model; all the variables in K are in K+1 as well. \n",
    "\n",
    "ii. True. For backward stepwise, we get K variables model by getting rid of one variable in K+1 variables. So, all the variables in K variable model are in K+1 variables model as well. \n",
    "\n",
    "iii. False. For the statement to be true both the backward and forward must have the same predictors at K-variable model. This is not necessarily true.\n",
    "\n",
    "iv.  False. For the same reason as (iii).\n",
    "\n",
    "v. False. In the best subset approach, K-variable model might contain completely different predictors from those of in (K+1) variable model.\n"
   ]
  },
  {
   "cell_type": "markdown",
   "metadata": {},
   "source": [
    "# 4. Lasso (25pt)"
   ]
  },
  {
   "cell_type": "markdown",
   "metadata": {},
   "source": [
    "Suppose we estimate the regression coefficients in a linear regression model by minimizing\n",
    "$$\n",
    "\\sum_{i=1}^{n}\\left(y_{i}-\\beta_{0}-\\sum_{j=1}^{p} \\beta_{j} x_{i j}\\right)^{2} \\quad \\text { subject to } \\quad \\sum_{j=1}^{p}\\left|\\beta_{j}\\right| \\leq s\n",
    "$$\n",
    "for a particular value of $s$. For parts (a) through (e), indicate which of i. through v. is correct. Justify your answer."
   ]
  },
  {
   "cell_type": "markdown",
   "metadata": {},
   "source": [
    "**(a) As we increase $s$ from 0 , the training RSS will:**\n",
    "- i. Increase initially, and then eventually start decreasing in an inverted U shape.\n",
    "- ii. Decrease initially, and then eventually start increasing in a U shape.\n",
    "- iii. Steadily increase.\n",
    "- iv. Steadily decrease.\n",
    "- v . Remain constant."
   ]
  },
  {
   "cell_type": "markdown",
   "metadata": {},
   "source": [
    "Training RSS steadily decreases, as we increase s from 0 we are allowing more coefficents to exist. Hence flexibility increases, and as we know when the flexibility increases the training RSS decreases."
   ]
  },
  {
   "cell_type": "markdown",
   "metadata": {},
   "source": [
    "**(b) Repeat (a) for test RSS.**"
   ]
  },
  {
   "cell_type": "markdown",
   "metadata": {},
   "source": [
    "ii. Decrease initially, and then eventually start increasing in a U shape. Initially, we have small variance and the bias is decreasing hence it results in decreasing test RSS. However, when the complexity increases, the variances increases and as result the test RSS also increases. "
   ]
  },
  {
   "cell_type": "markdown",
   "metadata": {},
   "source": [
    "**(c) Repeat (a) for variance.**"
   ]
  },
  {
   "cell_type": "markdown",
   "metadata": {},
   "source": [
    "iii. Steadily increase. As we include more parameteres, the variance increases.\n",
    "\n",
    "**(d) Repeat (a) for (squared) bias.**"
   ]
  },
  {
   "cell_type": "markdown",
   "metadata": {},
   "source": [
    "iv. Steadily decrease. Since the complexity is increasing its bias the model's bias is decreasing. "
   ]
  },
  {
   "cell_type": "markdown",
   "metadata": {},
   "source": [
    "**(e) Repeat (a) for the irreducible error.**"
   ]
  },
  {
   "cell_type": "markdown",
   "metadata": {},
   "source": [
    "v . Remain constant. It is not affected by the complexity of our model."
   ]
  },
  {
   "cell_type": "markdown",
   "metadata": {},
   "source": [
    "# 5. Ridge regression (25pt)"
   ]
  },
  {
   "cell_type": "markdown",
   "metadata": {},
   "source": [
    "Suppose we estimate the regression coefficients in a linear regression model by minimizing\n",
    "$$\n",
    "\\sum_{i=1}^{n}\\left(y_{i}-\\beta_{0}-\\sum_{j=1}^{p} \\beta_{j} x_{i j}\\right)^{2}+\\lambda \\sum_{j=1}^{p} \\beta_{j}^{2}\n",
    "$$\n",
    "for a particular value of $\\lambda$. For parts (a) through (e), indicate which of i. through $\\mathrm{v}$. is correct. Justify your answer."
   ]
  },
  {
   "cell_type": "markdown",
   "metadata": {},
   "source": [
    "**(a) As we increase $\\lambda$ from 0 , the training RSS will:**\n",
    "- i. Increase initially, and then eventually start decreasing in an inverted U shape.\n",
    "- ii. Decrease initially, and then eventually start increasing in a U shape.\n",
    "- iii. Steadily increase.\n",
    "- iv. Steadily decrease.\n",
    "- v. Remain constant."
   ]
  },
  {
   "cell_type": "markdown",
   "metadata": {},
   "source": [
    "iii. Steadily increase.\n",
    "\n",
    "As we increase lamda from 0, we want more parameters to be close to 0. This results in less flexibility, more bias and less variance. Since flexibility decreases, training RSS increases. "
   ]
  },
  {
   "cell_type": "markdown",
   "metadata": {},
   "source": [
    "**(b) Repeat (a) for test RSS.**"
   ]
  },
  {
   "cell_type": "markdown",
   "metadata": {},
   "source": [
    "ii. Decrease initially, and then eventually start increasing in a U shape.\n",
    "\n",
    "As we go from higher flexibility to lower flexibility, test RSS decreases initially as we variance is decreasing. Eventually, it increases due in low flexible areas due to large bias."
   ]
  },
  {
   "cell_type": "markdown",
   "metadata": {},
   "source": [
    "**(c) Repeat (a) for variance.**"
   ]
  },
  {
   "cell_type": "markdown",
   "metadata": {},
   "source": [
    "iv. Steadily decrease. Since, flexibility is decreasing variance decreases as well.\n"
   ]
  },
  {
   "cell_type": "markdown",
   "metadata": {},
   "source": [
    "**(d) Repeat (a) for (squared) bias.**"
   ]
  },
  {
   "cell_type": "markdown",
   "metadata": {},
   "source": [
    "iii. Steadily increase. Since we are moving from high complex to less complex models bias increases."
   ]
  },
  {
   "cell_type": "markdown",
   "metadata": {},
   "source": [
    "**(e) Repeat (a) for the irreducible error.**"
   ]
  },
  {
   "cell_type": "markdown",
   "metadata": {},
   "source": [
    "v. Remain constant. The irreducible error is not affected by the complexity of our model."
   ]
  },
  {
   "cell_type": "markdown",
   "metadata": {},
   "source": [
    "# Programming questions"
   ]
  },
  {
   "cell_type": "markdown",
   "metadata": {},
   "source": [
    "# 6. Validation Set Approach (20pt)"
   ]
  },
  {
   "cell_type": "markdown",
   "metadata": {},
   "source": [
    "In Chapter 4, we used logistic regression to predict the probability of ````default```` using ````income```` and ````balance```` on the ````Default```` data set. We will now estimate the test error of this logistic regression model using the validation set approach. Do not forget to set a random seed before beginning your analysis."
   ]
  },
  {
   "cell_type": "code",
   "execution_count": 1,
   "metadata": {},
   "outputs": [
    {
     "data": {
      "text/html": [
       "<div>\n",
       "<style scoped>\n",
       "    .dataframe tbody tr th:only-of-type {\n",
       "        vertical-align: middle;\n",
       "    }\n",
       "\n",
       "    .dataframe tbody tr th {\n",
       "        vertical-align: top;\n",
       "    }\n",
       "\n",
       "    .dataframe thead th {\n",
       "        text-align: right;\n",
       "    }\n",
       "</style>\n",
       "<table border=\"1\" class=\"dataframe\">\n",
       "  <thead>\n",
       "    <tr style=\"text-align: right;\">\n",
       "      <th></th>\n",
       "      <th>default</th>\n",
       "      <th>student</th>\n",
       "      <th>balance</th>\n",
       "      <th>income</th>\n",
       "    </tr>\n",
       "  </thead>\n",
       "  <tbody>\n",
       "    <tr>\n",
       "      <th>1</th>\n",
       "      <td>No</td>\n",
       "      <td>No</td>\n",
       "      <td>729.526495</td>\n",
       "      <td>44361.62507</td>\n",
       "    </tr>\n",
       "    <tr>\n",
       "      <th>2</th>\n",
       "      <td>No</td>\n",
       "      <td>Yes</td>\n",
       "      <td>817.180407</td>\n",
       "      <td>12106.13470</td>\n",
       "    </tr>\n",
       "    <tr>\n",
       "      <th>3</th>\n",
       "      <td>No</td>\n",
       "      <td>No</td>\n",
       "      <td>1073.549164</td>\n",
       "      <td>31767.13895</td>\n",
       "    </tr>\n",
       "    <tr>\n",
       "      <th>4</th>\n",
       "      <td>No</td>\n",
       "      <td>No</td>\n",
       "      <td>529.250605</td>\n",
       "      <td>35704.49394</td>\n",
       "    </tr>\n",
       "    <tr>\n",
       "      <th>5</th>\n",
       "      <td>No</td>\n",
       "      <td>No</td>\n",
       "      <td>785.655883</td>\n",
       "      <td>38463.49588</td>\n",
       "    </tr>\n",
       "  </tbody>\n",
       "</table>\n",
       "</div>"
      ],
      "text/plain": [
       "  default student      balance       income\n",
       "1      No      No   729.526495  44361.62507\n",
       "2      No     Yes   817.180407  12106.13470\n",
       "3      No      No  1073.549164  31767.13895\n",
       "4      No      No   529.250605  35704.49394\n",
       "5      No      No   785.655883  38463.49588"
      ]
     },
     "execution_count": 1,
     "metadata": {},
     "output_type": "execute_result"
    }
   ],
   "source": [
    "import numpy as np\n",
    "import pandas as pd\n",
    "import matplotlib.pyplot as plt\n",
    "from sklearn.linear_model import LogisticRegression, LinearRegression\n",
    "from sklearn.model_selection import train_test_split, cross_val_score, LeaveOneOut, KFold\n",
    "from sklearn.preprocessing import OneHotEncoder\n",
    "\n",
    "# print numpy arrays with precision 4\n",
    "np.set_printoptions(precision=4)\n",
    "\n",
    "df = pd.read_csv('data/Default.csv',index_col=0)\n",
    "df.head()"
   ]
  },
  {
   "cell_type": "markdown",
   "metadata": {},
   "source": [
    "**(a) Fit a logistic regression model that uses ````income```` and ````balance```` to predict ````default````.**"
   ]
  },
  {
   "cell_type": "code",
   "execution_count": 2,
   "metadata": {},
   "outputs": [
    {
     "name": "stdout",
     "output_type": "stream",
     "text": [
      "Intercept: [-11.5405]\n",
      "Coefficients: [[2.0809e-05 5.6471e-03]]\n"
     ]
    }
   ],
   "source": [
    "X = df[['income', 'balance']]  \n",
    "y = df.default\n",
    "\n",
    "logistic_sklearn = LogisticRegression(fit_intercept=True, C=1e9)\n",
    "logistic_sklearn_fit = logistic_sklearn.fit(X, y)\n",
    "\n",
    "print(\"Intercept: {}\".format(logistic_sklearn_fit.intercept_))\n",
    "print(\"Coefficients: {}\".format(logistic_sklearn_fit.coef_))\n"
   ]
  },
  {
   "cell_type": "markdown",
   "metadata": {},
   "source": [
    "**(b) Using the validation set approach, estimate the test error of this model. In order to do this, you must perform the following steps:**\n",
    "- i. Split the sample set into a training set and a validation set (75%:25%).\n",
    "- ii. Fit a multiple logistic regression model using only the training observations.\n",
    "- iii. Obtain a prediction of default status for each individual in the validation set by computing the posterior probability of default for that individual, and classifying the individual to the ````default```` category if the posterior probability is greater than 0.5.\n",
    "- iv. Compute the validation set error, which is the fraction of the observations in the validation set that are misclassified."
   ]
  },
  {
   "cell_type": "code",
   "execution_count": 13,
   "metadata": {},
   "outputs": [
    {
     "name": "stdout",
     "output_type": "stream",
     "text": [
      "Mean cross-validated score: 0.9719999999999999\n"
     ]
    }
   ],
   "source": [
    "# i. Splitting the data\n",
    "X = df[['income', 'balance']]  \n",
    "y = df.default\n",
    "x_train, x_test, y_train, y_test = train_test_split(X, y, test_size=0.25, random_state=42)\n",
    "\n",
    "# ii. Fitting Logistic regression\n",
    "lm = LogisticRegression(fit_intercept=True)\n",
    "lm_fit = lm.fit(x_train, y_train)\n",
    "\n",
    "# iii. Obtaining predictions\n",
    "y_pred = lm_fit.predict(x_test) \n",
    "\n",
    "# Computing the validation set error\n",
    "validation_error = cross_val_score(lm_fit, x_test, y_test, cv=5).mean()\n",
    "print(\"Mean cross-validated score:\", validation_error)\n"
   ]
  },
  {
   "cell_type": "markdown",
   "metadata": {},
   "source": [
    "**(c) Repeat the process in (b) three times, using three different splits of the observations into a training set and a validation set. Comment on the results obtained.**"
   ]
  },
  {
   "cell_type": "code",
   "execution_count": 16,
   "metadata": {},
   "outputs": [
    {
     "name": "stdout",
     "output_type": "stream",
     "text": [
      "Mean cross-validated score for test size 0.5: 0.9698\n",
      "Mean cross-validated score for test size 0.75: 0.9701333333333333\n",
      "Mean cross-validated score for test size 0.1: 0.96\n"
     ]
    }
   ],
   "source": [
    "# fot test size = 0.5\n",
    "\n",
    "# i. Splitting the data\n",
    "X = df[['income', 'balance']]  \n",
    "y = df.default\n",
    "x_train, x_test, y_train, y_test = train_test_split(X, y, test_size=0.5, random_state=42)\n",
    "\n",
    "# ii. Fitting Logistic regression\n",
    "lm1 = LogisticRegression(fit_intercept=True)\n",
    "lm1_fit = lm.fit(x_train, y_train)\n",
    "\n",
    "# iii. Obtaining predictions\n",
    "y_pred = lm1_fit.predict(x_test) \n",
    "\n",
    "# Computing the validation set error\n",
    "validation_error = cross_val_score(lm1_fit, x_test, y_test, cv=5).mean()\n",
    "print(\"Mean cross-validated score for test size 0.5:\", validation_error)\n",
    "\n",
    "# fot test size = 0.75\n",
    "\n",
    "# i. Splitting the data\n",
    "X = df[['income', 'balance']]  \n",
    "y = df.default\n",
    "x_train, x_test, y_train, y_test = train_test_split(X, y, test_size=0.75, random_state=42)\n",
    "\n",
    "# ii. Fitting Logistic regression\n",
    "lm2 = LogisticRegression(fit_intercept=True)\n",
    "lm2_fit = lm2.fit(x_train, y_train)\n",
    "\n",
    "# iii. Obtaining predictions\n",
    "y_pred = lm2_fit.predict(x_test) \n",
    "\n",
    "# Computing the validation set error\n",
    "validation_error = cross_val_score(lm2_fit, x_test, y_test, cv=5).mean()\n",
    "print(\"Mean cross-validated score for test size 0.75:\", validation_error)\n",
    "\n",
    "\n",
    "# fot test size = 0.1\n",
    "\n",
    "# i. Splitting the data\n",
    "X = df[['income', 'balance']]  \n",
    "y = df.default\n",
    "x_train, x_test, y_train, y_test = train_test_split(X, y, test_size=0.1, random_state=42)\n",
    "\n",
    "# ii. Fitting Logistic regression\n",
    "lm3 = LogisticRegression(fit_intercept=True)\n",
    "lm3_fit = lm3.fit(x_train, y_train)\n",
    "\n",
    "# iii. Obtaining predictions\n",
    "y_pred = lm3_fit.predict(x_test) \n",
    "\n",
    "# Computing the validation set error\n",
    "validation_error = cross_val_score(lm3_fit, x_test, y_test, cv=5).mean()\n",
    "print(\"Mean cross-validated score for test size 0.1:\", validation_error)"
   ]
  },
  {
   "cell_type": "markdown",
   "metadata": {},
   "source": [
    "The accuracy does not vary that much for different sizes of test size."
   ]
  },
  {
   "cell_type": "markdown",
   "metadata": {},
   "source": [
    "**(d) Now consider a logistic regression model that predicts the probability of ````default```` using ````income````, ````balance````, and a dummy variable for ````student````. Estimate the test error for this model using the validation set approach. Comment on whether or not including a dummy variable for ````student```` leads to a reduction in the test error rate.**"
   ]
  },
  {
   "cell_type": "code",
   "execution_count": 20,
   "metadata": {},
   "outputs": [
    {
     "name": "stdout",
     "output_type": "stream",
     "text": [
      "Mean cross-validated score: 0.9683999999999999\n"
     ]
    }
   ],
   "source": [
    "# Encoding categorical variable 'student' into dummy variables\n",
    "df2 = pd.get_dummies(df, columns=['student'])\n",
    "df2.drop('student_No', axis=1, inplace=True)\n",
    "\n",
    "# Splitting the data\n",
    "X = df2[['income', 'balance', 'student_Yes']]  \n",
    "y = df2.default\n",
    "x_train, x_test, y_train, y_test = train_test_split(X, y, test_size=0.25, random_state=42)\n",
    "\n",
    "# Fitting Logistic regression\n",
    "lm4 = LogisticRegression(fit_intercept=True)\n",
    "lm4_fit = lm4.fit(x_train, y_train)\n",
    "\n",
    "# Obtaining predictions\n",
    "y_pred = lm4_fit.predict(x_test) \n",
    "\n",
    "# Computing the validation set error\n",
    "validation_error = cross_val_score(lm4_fit, x_test, y_test, cv=5).mean()\n",
    "print(\"Mean cross-validated score:\", validation_error)\n",
    "\n"
   ]
  },
  {
   "cell_type": "markdown",
   "metadata": {},
   "source": [
    "The accuracy decreased a little from the above(0.9719999999999999) one with the 'student' predictor. But, the change is almost negligible. "
   ]
  },
  {
   "cell_type": "markdown",
   "metadata": {},
   "source": [
    "# 7. Leave-one-out cross validation (LOOCV) (25pt)"
   ]
  },
  {
   "cell_type": "markdown",
   "metadata": {},
   "source": [
    "**Compute the LOOCV error for a simple logistic regression model on the Weekly data set.**\n",
    "\n",
    "**You should implement LOOCV yourself without using external packages.**"
   ]
  },
  {
   "cell_type": "code",
   "execution_count": 158,
   "metadata": {},
   "outputs": [
    {
     "data": {
      "text/html": [
       "<div>\n",
       "<style scoped>\n",
       "    .dataframe tbody tr th:only-of-type {\n",
       "        vertical-align: middle;\n",
       "    }\n",
       "\n",
       "    .dataframe tbody tr th {\n",
       "        vertical-align: top;\n",
       "    }\n",
       "\n",
       "    .dataframe thead th {\n",
       "        text-align: right;\n",
       "    }\n",
       "</style>\n",
       "<table border=\"1\" class=\"dataframe\">\n",
       "  <thead>\n",
       "    <tr style=\"text-align: right;\">\n",
       "      <th></th>\n",
       "      <th>Year</th>\n",
       "      <th>Lag1</th>\n",
       "      <th>Lag2</th>\n",
       "      <th>Lag3</th>\n",
       "      <th>Lag4</th>\n",
       "      <th>Lag5</th>\n",
       "      <th>Volume</th>\n",
       "      <th>Today</th>\n",
       "      <th>Direction</th>\n",
       "    </tr>\n",
       "  </thead>\n",
       "  <tbody>\n",
       "    <tr>\n",
       "      <th>0</th>\n",
       "      <td>1990</td>\n",
       "      <td>0.816</td>\n",
       "      <td>1.572</td>\n",
       "      <td>-3.936</td>\n",
       "      <td>-0.229</td>\n",
       "      <td>-3.484</td>\n",
       "      <td>0.154976</td>\n",
       "      <td>-0.270</td>\n",
       "      <td>Down</td>\n",
       "    </tr>\n",
       "    <tr>\n",
       "      <th>1</th>\n",
       "      <td>1990</td>\n",
       "      <td>-0.270</td>\n",
       "      <td>0.816</td>\n",
       "      <td>1.572</td>\n",
       "      <td>-3.936</td>\n",
       "      <td>-0.229</td>\n",
       "      <td>0.148574</td>\n",
       "      <td>-2.576</td>\n",
       "      <td>Down</td>\n",
       "    </tr>\n",
       "    <tr>\n",
       "      <th>2</th>\n",
       "      <td>1990</td>\n",
       "      <td>-2.576</td>\n",
       "      <td>-0.270</td>\n",
       "      <td>0.816</td>\n",
       "      <td>1.572</td>\n",
       "      <td>-3.936</td>\n",
       "      <td>0.159837</td>\n",
       "      <td>3.514</td>\n",
       "      <td>Up</td>\n",
       "    </tr>\n",
       "    <tr>\n",
       "      <th>3</th>\n",
       "      <td>1990</td>\n",
       "      <td>3.514</td>\n",
       "      <td>-2.576</td>\n",
       "      <td>-0.270</td>\n",
       "      <td>0.816</td>\n",
       "      <td>1.572</td>\n",
       "      <td>0.161630</td>\n",
       "      <td>0.712</td>\n",
       "      <td>Up</td>\n",
       "    </tr>\n",
       "    <tr>\n",
       "      <th>4</th>\n",
       "      <td>1990</td>\n",
       "      <td>0.712</td>\n",
       "      <td>3.514</td>\n",
       "      <td>-2.576</td>\n",
       "      <td>-0.270</td>\n",
       "      <td>0.816</td>\n",
       "      <td>0.153728</td>\n",
       "      <td>1.178</td>\n",
       "      <td>Up</td>\n",
       "    </tr>\n",
       "  </tbody>\n",
       "</table>\n",
       "</div>"
      ],
      "text/plain": [
       "   Year   Lag1   Lag2   Lag3   Lag4   Lag5    Volume  Today Direction\n",
       "0  1990  0.816  1.572 -3.936 -0.229 -3.484  0.154976 -0.270      Down\n",
       "1  1990 -0.270  0.816  1.572 -3.936 -0.229  0.148574 -2.576      Down\n",
       "2  1990 -2.576 -0.270  0.816  1.572 -3.936  0.159837  3.514        Up\n",
       "3  1990  3.514 -2.576 -0.270  0.816  1.572  0.161630  0.712        Up\n",
       "4  1990  0.712  3.514 -2.576 -0.270  0.816  0.153728  1.178        Up"
      ]
     },
     "execution_count": 158,
     "metadata": {},
     "output_type": "execute_result"
    }
   ],
   "source": [
    "weekly = pd.read_csv(\"data/Weekly.csv\")\n",
    "X = weekly[['Lag1', 'Lag2']]\n",
    "y = weekly['Direction']\n",
    "weekly.head()"
   ]
  },
  {
   "cell_type": "markdown",
   "metadata": {},
   "source": [
    "(a) Fit a logistic regression model that predicts ````Direction```` using ````Lag1```` and ````Lag2````."
   ]
  },
  {
   "cell_type": "code",
   "execution_count": 23,
   "metadata": {},
   "outputs": [
    {
     "name": "stdout",
     "output_type": "stream",
     "text": [
      "Intercept: [0.2212]\n",
      "Coefficients: [[-0.0387  0.0602]]\n"
     ]
    }
   ],
   "source": [
    "\n",
    "logistic_sklearn = LogisticRegression(fit_intercept=True, C=1e9)\n",
    "logistic_sklearn_fit = logistic_sklearn.fit(X, y)\n",
    "\n",
    "print(\"Intercept: {}\".format(logistic_sklearn_fit.intercept_))\n",
    "print(\"Coefficients: {}\".format(logistic_sklearn_fit.coef_))\n"
   ]
  },
  {
   "cell_type": "markdown",
   "metadata": {},
   "source": [
    "(b) Fit a logistic regressionmodel that predicts ````Direction```` using ````Lag1```` and ````Lag2```` using all but the first observation."
   ]
  },
  {
   "cell_type": "code",
   "execution_count": 25,
   "metadata": {},
   "outputs": [
    {
     "name": "stdout",
     "output_type": "stream",
     "text": [
      "Intercept: [0.2232]\n",
      "Coefficients: [[-0.0384  0.0608]]\n"
     ]
    }
   ],
   "source": [
    "log1= LogisticRegression(fit_intercept=True, C=1e9)\n",
    "log1_fit = log1.fit(X.iloc[1:, :],y[1:])\n",
    "\n",
    "print(\"Intercept: {}\".format(log1_fit.intercept_))\n",
    "print(\"Coefficients: {}\".format(log1_fit.coef_))"
   ]
  },
  {
   "cell_type": "markdown",
   "metadata": {},
   "source": [
    "(c) Use the model from (b) to predict the direction of the first observation. You can do this by predicting that the first observation will go up if $P(Direction=\"Up\"|Lag1, Lag2) > 0.5$. Was this observation correctly classified?"
   ]
  },
  {
   "cell_type": "code",
   "execution_count": 28,
   "metadata": {},
   "outputs": [
    {
     "name": "stdout",
     "output_type": "stream",
     "text": [
      "[0.5714]\n",
      "predicted: ['Up'] actual: Down\n"
     ]
    }
   ],
   "source": [
    "print(log1_fit.predict_proba(X[:1])[:, 1])\n",
    "y_pred = log1_fit.predict(X[:1])\n",
    "print(\"predicted:\", y_pred, \"actual:\", y[0])\n",
    "\n"
   ]
  },
  {
   "cell_type": "markdown",
   "metadata": {},
   "source": [
    "It's not correctly classified."
   ]
  },
  {
   "cell_type": "markdown",
   "metadata": {},
   "source": [
    "(d) Write a for loop from $i = 1$ to $i = n$, where $n$ is the number of observations in the data set, that performs each of the following steps:\n",
    "- i. Fit a logistic regression model using all but the ith observation to predict ````Direction```` using ````Lag1```` and ````Lag2````.\n",
    "- ii. Compute the posterior probability of the market moving up for the ith observation.\n",
    "- iii. Use the posterior probability for the ith observation in order to predict whether or not the market moves up.\n",
    "- iv. Determine whether or not an error was made in predicting the direction for the ith observation. If an error was made, then indicate this as a 1, and otherwise indicate it as a 0."
   ]
  },
  {
   "cell_type": "code",
   "execution_count": 160,
   "metadata": {},
   "outputs": [
    {
     "name": "stdout",
     "output_type": "stream",
     "text": [
      "[1, 1, 0, 1, 0, 1, 0, 0, 0, 1, 1, 0, 1, 0, 1, 0, 1, 0, 1, 0, 0, 0, 1, 1, 1, 1, 1, 1, 0, 1, 1, 1, 1, 0, 1, 0, 0, 0, 1, 0, 1, 0, 0, 1, 0, 1, 1, 1, 0, 1, 0, 0, 0, 1, 0, 0, 1, 1, 0, 0, 0, 0, 1, 0, 1, 1, 0, 0, 1, 0, 1, 1, 0, 0, 0, 1, 0, 1, 1, 0, 0, 1, 1, 0, 1, 1, 0, 0, 1, 0, 0, 1, 1, 1, 0, 0, 0, 0, 0, 1, 0, 1, 1, 0, 0, 1, 0, 1, 0, 0, 1, 1, 0, 0, 1, 0, 0, 1, 0, 0, 1, 1, 1, 1, 0, 0, 0, 1, 0, 1, 0, 1, 1, 0, 0, 0, 1, 1, 1, 0, 0, 0, 1, 0, 0, 0, 0, 0, 0, 1, 1, 1, 0, 1, 0, 0, 1, 1, 0, 1, 0, 0, 1, 1, 0, 0, 1, 0, 0, 1, 0, 0, 1, 1, 1, 0, 1, 0, 1, 0, 0, 0, 0, 0, 0, 0, 0, 1, 1, 0, 1, 0, 1, 0, 1, 0, 1, 0, 0, 1, 0, 0, 1, 0, 0, 1, 0, 1, 0, 1, 1, 1, 0, 0, 1, 1, 0, 1, 0, 0, 1, 1, 0, 0, 0, 1, 1, 1, 0, 1, 0, 1, 0, 1, 0, 0, 0, 1, 1, 0, 1, 0, 1, 0, 1, 0, 1, 0, 1, 1, 0, 1, 0, 0, 1, 0, 0, 1, 0, 0, 0, 0, 0, 1, 0, 0, 0, 1, 0, 0, 1, 0, 0, 0, 1, 0, 0, 1, 0, 0, 1, 0, 0, 1, 0, 1, 1, 0, 0, 0, 0, 0, 1, 0, 1, 0, 0, 1, 0, 0, 0, 1, 0, 0, 1, 1, 0, 0, 1, 0, 0, 0, 0, 1, 0, 1, 1, 0, 0, 1, 0, 1, 0, 1, 1, 0, 0, 0, 1, 0, 1, 0, 0, 1, 1, 1, 1, 0, 1, 0, 0, 1, 0, 0, 0, 1, 0, 1, 0, 1, 0, 0, 0, 0, 0, 1, 1, 0, 0, 1, 0, 0, 1, 0, 0, 0, 1, 1, 0, 1, 1, 1, 1, 1, 0, 0, 0, 1, 0, 0, 0, 0, 0, 0, 1, 0, 1, 1, 0, 0, 1, 1, 0, 0, 0, 0, 0, 1, 0, 0, 1, 1, 1, 0, 1, 0, 1, 0, 1, 1, 1, 0, 1, 0, 0, 0, 0, 0, 0, 0, 0, 0, 0, 1, 0, 1, 0, 1, 0, 1, 0, 0, 1, 0, 1, 0, 0, 0, 0, 0, 1, 1, 1, 1, 0, 1, 1, 0, 1, 0, 1, 1, 0, 1, 0, 0, 1, 0, 0, 1, 1, 0, 0, 0, 0, 1, 1, 0, 0, 1, 0, 1, 0, 0, 0, 1, 0, 0, 1, 0, 0, 0, 1, 1, 1, 0, 1, 0, 0, 0, 1, 0, 1, 1, 1, 0, 0, 0, 0, 1, 1, 1, 0, 1, 1, 0, 1, 0, 0, 0, 1, 0, 1, 0, 0, 0, 1, 0, 1, 1, 0, 0, 1, 1, 0, 0, 0, 1, 1, 0, 1, 0, 1, 1, 1, 1, 1, 0, 0, 0, 1, 0, 0, 0, 1, 1, 0, 1, 0, 0, 0, 1, 1, 1, 1, 1, 1, 0, 1, 0, 1, 0, 0, 1, 0, 0, 1, 1, 1, 0, 0, 0, 1, 1, 1, 1, 1, 1, 1, 1, 1, 1, 0, 1, 0, 0, 1, 0, 0, 1, 0, 1, 0, 0, 1, 0, 0, 1, 0, 1, 1, 0, 1, 1, 1, 0, 1, 0, 1, 0, 1, 0, 0, 0, 1, 0, 1, 0, 1, 0, 1, 1, 0, 1, 1, 0, 1, 0, 1, 0, 1, 1, 1, 1, 0, 1, 1, 0, 0, 0, 1, 1, 1, 1, 0, 1, 1, 1, 0, 1, 0, 0, 0, 1, 1, 1, 1, 1, 1, 0, 1, 0, 0, 1, 0, 0, 0, 1, 1, 0, 1, 0, 1, 1, 1, 1, 0, 0, 0, 1, 1, 0, 0, 0, 0, 0, 0, 0, 0, 0, 0, 1, 0, 0, 0, 0, 1, 0, 0, 1, 0, 1, 1, 0, 0, 0, 0, 1, 0, 1, 0, 1, 0, 1, 0, 0, 1, 1, 0, 0, 0, 0, 0, 0, 0, 0, 0, 1, 0, 0, 1, 0, 0, 1, 1, 1, 0, 1, 1, 0, 1, 1, 1, 1, 0, 0, 0, 1, 1, 1, 1, 1, 1, 0, 1, 0, 0, 0, 0, 0, 0, 1, 0, 1, 1, 1, 0, 0, 0, 1, 0, 0, 1, 0, 0, 0, 1, 1, 1, 0, 0, 0, 1, 0, 0, 1, 1, 1, 0, 0, 1, 0, 1, 0, 1, 0, 0, 1, 0, 0, 1, 0, 0, 0, 0, 0, 1, 0, 1, 1, 0, 0, 1, 1, 0, 1, 1, 1, 0, 0, 0, 0, 0, 1, 1, 0, 0, 1, 0, 0, 1, 0, 1, 0, 0, 0, 1, 1, 0, 1, 1, 0, 1, 0, 1, 0, 1, 1, 0, 0, 1, 1, 1, 0, 1, 1, 0, 0, 0, 1, 0, 1, 0, 1, 0, 1, 0, 0, 0, 0, 0, 1, 0, 0, 1, 1, 0, 0, 1, 0, 1, 0, 1, 1, 0, 1, 0, 1, 1, 0, 0, 0, 1, 0, 0, 0, 0, 0, 0, 0, 1, 0, 1, 0, 1, 0, 0, 0, 1, 1, 1, 1, 1, 0, 1, 1, 0, 0, 0, 0, 0, 1, 0, 0, 1, 0, 0, 0, 0, 1, 0, 1, 1, 1, 0, 0, 1, 1, 0, 1, 1, 1, 1, 0, 1, 0, 1, 0, 1, 0, 1, 0, 1, 0, 0, 1, 1, 1, 1, 1, 0, 1, 0, 0, 0, 1, 1, 1, 0, 1, 1, 1, 1, 0, 0, 0, 0, 1, 1, 0, 0, 0, 0, 1, 0, 0, 1, 1, 1, 0, 0, 1, 1, 1, 0, 1, 0, 0, 0, 0, 1, 0, 0, 1, 0, 1, 0, 0, 1, 1, 1, 1, 0, 1, 0, 0, 1, 0, 0, 1, 0, 0, 1, 1, 0, 1, 1, 1, 0, 1, 1, 0, 0, 0, 1, 0, 1, 0, 1, 1, 1, 1, 0, 0, 1, 0, 0, 0, 0, 0, 0, 1, 0, 1, 1, 0, 0, 0, 0, 0, 1, 1, 1, 0, 0, 0, 1, 0, 1, 1, 1, 0, 0, 0, 0, 1, 0, 0, 0, 0, 0, 1, 0, 1, 0, 0, 0, 0, 0]\n"
     ]
    }
   ],
   "source": [
    "\n",
    "errors = []\n",
    "\n",
    "# Iterate over each observation\n",
    "for i in range(len(X)):\n",
    "    # Fit a logistic regression model using all but the ith observation to predict Direction using Lag1 and Lag2\n",
    "    X_train = X.drop(index=i)\n",
    "    y_train = y.drop(index=i)\n",
    "    logistic_model = LogisticRegression()\n",
    "    logistic_model.fit(X_train, y_train)\n",
    "    \n",
    "    posterior_probability = logistic_model.predict_proba(X.iloc[[i]])[0, 1]\n",
    "    \n",
    "    # Use the posterior probability for the ith observation to predict whether or not the market moves up\n",
    "    predicted_direction = 'Up' if posterior_probability > 0.5 else 'Down'\n",
    "    \n",
    "    # Determine whether or not an error was made in predicting the direction for the ith observation\n",
    "    actual_direction = y.iloc[i]\n",
    "    if predicted_direction != actual_direction:\n",
    "        errors.append(1)\n",
    "    else:\n",
    "        errors.append(0)\n",
    "\n",
    "# Print the list of errors\n",
    "print(errors)\n",
    "\n",
    "\n",
    "\n",
    "\n",
    "\n",
    "\n",
    "\n",
    "\n",
    "\n",
    "\n"
   ]
  },
  {
   "cell_type": "markdown",
   "metadata": {},
   "source": [
    "(e) Take the average of the $n$ numbers obtained in (d)iv in order to obtain the LOOCV estimate for the test error. Comment on the results."
   ]
  },
  {
   "cell_type": "code",
   "execution_count": 162,
   "metadata": {},
   "outputs": [
    {
     "name": "stdout",
     "output_type": "stream",
     "text": [
      " LOOCV estimate for the test error 0.44995408631772266\n"
     ]
    }
   ],
   "source": [
    "e = sum(errors)/len(errors)\n",
    "print(\" LOOCV estimate for the test error\", e)"
   ]
  },
  {
   "cell_type": "markdown",
   "metadata": {},
   "source": [
    "The loss obtained through LOOCV tends to provide a more reliable indicator of the test error compared to validation set methods. This is because validation set methods overestimates the error due to the smaller size of the training set."
   ]
  },
  {
   "cell_type": "markdown",
   "metadata": {},
   "source": [
    "# 8. Shrinkage methods + Dimension reduction (35pt)"
   ]
  },
  {
   "cell_type": "markdown",
   "metadata": {},
   "source": [
    "In this exercise, we will predict the number of applications received using the other variables in the ````College```` data set."
   ]
  },
  {
   "cell_type": "markdown",
   "metadata": {},
   "source": [
    "**(a) Split the data set into a training set and a test set.**"
   ]
  },
  {
   "cell_type": "code",
   "execution_count": 123,
   "metadata": {},
   "outputs": [
    {
     "name": "stdout",
     "output_type": "stream",
     "text": [
      "Index(['Private', 'Apps', 'Accept', 'Enroll', 'Top10perc', 'Top25perc',\n",
      "       'F.Undergrad', 'P.Undergrad', 'Outstate', 'Room.Board', 'Books',\n",
      "       'Personal', 'PhD', 'Terminal', 'S.F.Ratio', 'perc.alumni', 'Expend',\n",
      "       'Grad.Rate'],\n",
      "      dtype='object')\n"
     ]
    }
   ],
   "source": [
    "df = pd.read_csv(\"data/college.csv\", index_col = 0)\n",
    "df.index.rename('University name', inplace = True)\n",
    "print(df.columns)\n",
    "\n",
    "X= df.drop(columns=['Apps']) \n",
    "X = pd.get_dummies(x, columns=['Private'], drop_first=True)\n",
    "y = df['Apps']\n",
    "x_train3, x_test3, y_train3, y_test3 = train_test_split(X, y, test_size=0.25, random_state=0)\n",
    "\n"
   ]
  },
  {
   "cell_type": "markdown",
   "metadata": {},
   "source": [
    "**(b) Fit a linear model using least squares on the training set, and report the test error obtained.**"
   ]
  },
  {
   "cell_type": "code",
   "execution_count": 125,
   "metadata": {},
   "outputs": [
    {
     "name": "stdout",
     "output_type": "stream",
     "text": [
      "MSE:  1022430.0889255339\n"
     ]
    }
   ],
   "source": [
    "lm5 = LinearRegression()\n",
    "lm5_fit = lm5.fit(x_train3, y_train3)\n",
    "y_pred = lm5_fit.predict(x_test3)\n",
    "print('MSE: ', np.mean((y_pred - y_test)**2))"
   ]
  },
  {
   "cell_type": "markdown",
   "metadata": {},
   "source": [
    "**(c) Fit a ridge regression model on the training set, with $\\lambda$ chosen by cross-validation. Report the test error obtained.**"
   ]
  },
  {
   "cell_type": "code",
   "execution_count": 126,
   "metadata": {},
   "outputs": [
    {
     "name": "stdout",
     "output_type": "stream",
     "text": [
      "Best lambda: 23.644894126454073\n",
      "Accept           1.627555\n",
      "Enroll          -1.043822\n",
      "Top10perc       57.368659\n",
      "Top25perc      -17.610201\n",
      "F.Undergrad      0.078049\n",
      "P.Undergrad      0.056882\n",
      "Outstate        -0.085646\n",
      "Room.Board       0.169410\n",
      "Books            0.003434\n",
      "Personal        -0.012472\n",
      "PhD            -10.378839\n",
      "Terminal        -2.154728\n",
      "S.F.Ratio        6.656502\n",
      "perc.alumni      0.182735\n",
      "Expend           0.048694\n",
      "Grad.Rate        8.029432\n",
      "Private_Yes   -365.814531\n",
      "dtype: float64\n",
      "[Ridge] Test set MSE =  1017884.1512982695\n"
     ]
    }
   ],
   "source": [
    "from sklearn.linear_model import Ridge, RidgeCV, Lasso, LassoCV\n",
    "from numpy import linalg\n",
    "from sklearn.metrics import mean_squared_error\n",
    "from sklearn.preprocessing import StandardScaler\n",
    "from sklearn.model_selection import KFold\n",
    "\n",
    "# Define a range of lambda values (alphas)\n",
    "lambdas = 10 ** np.linspace(-4, 10, 100)\n",
    "\n",
    "# Define the cross-validation strategy (10-fold)\n",
    "kf = KFold(n_splits=10, random_state=1, shuffle=True)\n",
    "\n",
    "# Perform Ridge regression with cross-validation to find the best alpha (lambda)\n",
    "ridge_cv = RidgeCV(alphas=lambdas, scoring='neg_mean_squared_error', cv=kf)\n",
    "ridge_cv.fit(X, y)\n",
    "\n",
    "# Print the best lambda (alpha)\n",
    "print('Best lambda:', ridge_cv.alpha_)\n",
    "\n",
    "ridge1 = Ridge(alpha=ridge_cv.alpha_)\n",
    "ridge1.fit(x_train3, y_train3)\n",
    "y_pred7 = ridge1.predict(x_test3)\n",
    "print(pd.Series(ridge1.coef_, index=X.columns))\n",
    "print(\"[Ridge] Test set MSE = \", mean_squared_error(y_test3, y_pred7))"
   ]
  },
  {
   "cell_type": "markdown",
   "metadata": {},
   "source": [
    "The Test here is less than from the linear regression "
   ]
  },
  {
   "cell_type": "markdown",
   "metadata": {},
   "source": [
    "**(d) Fit a lasso model on the training set, with $\\lambda$ chosen by crossvalidation. Report the test error obtained, along with the number of non-zero coefficient estimates.**"
   ]
  },
  {
   "cell_type": "code",
   "execution_count": 127,
   "metadata": {},
   "outputs": [
    {
     "name": "stdout",
     "output_type": "stream",
     "text": [
      "Best lambda: 6.4280731172843195\n",
      "Accept           1.629281\n",
      "Enroll          -1.044657\n",
      "Top10perc       56.678007\n",
      "Top25perc      -17.189421\n",
      "F.Undergrad      0.081167\n",
      "P.Undergrad      0.058238\n",
      "Outstate        -0.091510\n",
      "Room.Board       0.164612\n",
      "Books           -0.002101\n",
      "Personal        -0.014043\n",
      "PhD             -9.747944\n",
      "Terminal        -1.596482\n",
      "S.F.Ratio        5.708082\n",
      "perc.alumni     -0.000000\n",
      "Expend           0.048907\n",
      "Grad.Rate        7.636196\n",
      "Private_Yes   -251.551429\n",
      "dtype: float64\n",
      "[Lasso] Test set MSE =  1017794.3015363528\n"
     ]
    }
   ],
   "source": [
    " #Define a range of lambda values (alphas)\n",
    "lambdas = 10 ** np.linspace(-4, 10, 100)\n",
    "\n",
    "# Define the cross-validation strategy (10-fold)\n",
    "kf = KFold(n_splits=10, random_state=1, shuffle=True)\n",
    "\n",
    "# Perform Ridge regression with cross-validation to find the best alpha (lambda)\n",
    "lasso_cv = LassoCV(alphas=lambdas, cv = kf, max_iter=100000 )\n",
    "lasso_cv.fit(X, y)\n",
    "\n",
    "# Print the best lambda (alpha)\n",
    "print('Best lambda:', lasso_cv.alpha_)\n",
    "\n",
    "lasso1 = Lasso(alpha=ridge_cv.alpha_)\n",
    "lasso1.fit(x_train3, y_train3)\n",
    "y_pred8 = lasso1.predict(x_test3)\n",
    "print(pd.Series(lasso1.coef_, index=X.columns))\n",
    "print(\"[Lasso] Test set MSE = \", mean_squared_error(y_test3, y_pred8))"
   ]
  },
  {
   "cell_type": "code",
   "execution_count": null,
   "metadata": {},
   "outputs": [],
   "source": [
    "All the predictors have non-zero coefficients, #non_zero coef estimates = 17"
   ]
  },
  {
   "cell_type": "markdown",
   "metadata": {},
   "source": [
    "**(e) Fit a PCR model on the training set, with $M$ chosen by crossvalidation. Report the test error obtained, along with the value of $M$ selected by cross-validation.**"
   ]
  },
  {
   "cell_type": "code",
   "execution_count": 169,
   "metadata": {},
   "outputs": [
    {
     "data": {
      "image/png": "[encoded data removed]",
      "text/plain": [
       "<Figure size 640x480 with 1 Axes>"
      ]
     },
     "metadata": {},
     "output_type": "display_data"
    }
   ],
   "source": [
    "from sklearn.preprocessing import scale \n",
    "from sklearn.model_selection import cross_val_score\n",
    "from sklearn.decomposition import PCA\n",
    "from sklearn.linear_model import LinearRegression\n",
    "from sklearn.metrics import mean_squared_error\n",
    "\n",
    "pca = PCA()\n",
    "X_pca = pca.fit_transform(scale(X))\n",
    "x_train_pca2 = pca.fit_transform(scale(x_train3))\n",
    "\n",
    "# 10-fold CV, with shuffle\n",
    "n = len(X_train_pca2)\n",
    "\n",
    "lin_reg2 = LinearRegression()\n",
    "mse2 = []\n",
    "\n",
    "# MSE with only the intercept\n",
    "score = -1 * cross_val_score(lin_reg2, np.ones((n,1)), y_train3, cv=kf, scoring='neg_mean_squared_error').mean()\n",
    "mse2.append(np.sqrt(score))\n",
    "\n",
    "# MSE for the 19 principle components\n",
    "for i in np.arange(1, 18):\n",
    "    score = -1 * cross_val_score(lin_reg2, x_train_pca2[:,:i], y_train3, cv=kf, scoring='neg_mean_squared_error').mean()\n",
    "    mse2.append(np.sqrt(score))\n",
    "\n",
    "min_mse = np.array(mse2).argmin()\n",
    "    \n",
    "plt.plot(mse2, '-D')\n",
    "plt.xlabel('# of PC')\n",
    "plt.ylabel('MSE')\n",
    "plt.xticks(range(18), range(18))\n",
    "min_mse_marker, = plt.plot(min_mse, min(mse2), 'b*', markersize=15)\n",
    "plt.legend([min_mse_marker], ['Best number of principal components']);"
   ]
  },
  {
   "cell_type": "code",
   "execution_count": 172,
   "metadata": {},
   "outputs": [
    {
     "name": "stdout",
     "output_type": "stream",
     "text": [
      "[PCR] Test set MSE =  6425582.650634707\n"
     ]
    }
   ],
   "source": [
    "#The lowest CV error occurs when M = 17.\n",
    "\n",
    "X_train_pca3 = pca.fit_transform(scale(x_train3))[:, :18]\n",
    "X_test_pca3 = pca.fit_transform(scale(x_test3))[:, :18]\n",
    "\n",
    "lin_reg3 = LinearRegression()\n",
    "lin_reg3.fit(X_train_pca3, y_train3)\n",
    "pred_pca3 = lin_reg3.predict(X_test_pca3)\n",
    "\n",
    "print(\"[PCR] Test set MSE = \", mean_squared_error(y_test3, pred_pca3))"
   ]
  },
  {
   "cell_type": "markdown",
   "metadata": {},
   "source": [
    "**(f) Fit a PLS model on the training set, with $M$ chosen by crossvalidation. Report the test error obtained, along with the value of $M$ selected by cross-validation.**"
   ]
  },
  {
   "cell_type": "code",
   "execution_count": 138,
   "metadata": {},
   "outputs": [
    {
     "data": {
      "image/png": "[encoded data removed]",
      "text/plain": [
       "<Figure size 640x480 with 1 Axes>"
      ]
     },
     "metadata": {},
     "output_type": "display_data"
    }
   ],
   "source": [
    "from sklearn.cross_decomposition import PLSRegression\n",
    "\n",
    "# 10-fold CV\n",
    "n = len(x_train3)\n",
    "\n",
    "mse = []\n",
    "\n",
    "for i in np.arange(1, 18):\n",
    "    pls = PLSRegression(n_components=i)\n",
    "    score = -1 * cross_val_score(pls, scale(x_train3), y_train3, cv=kf, scoring='neg_mean_squared_error').mean()\n",
    "    mse.append(np.sqrt(score))    \n",
    "\n",
    "min_mse = np.array(mse).argmin()+1\n",
    "    \n",
    "plt.plot(range(1,18), mse, '-D')\n",
    "plt.xlabel('# of PC')\n",
    "plt.ylabel('MSE')\n",
    "plt.xticks(range(1,18), range(1,18))\n",
    "min_mse_marker, = plt.plot(min_mse, min(mse), 'b*', markersize=15)\n",
    "plt.legend([min_mse_marker], ['Best number of principal components']);\n",
    "\n",
    "\n"
   ]
  },
  {
   "cell_type": "code",
   "execution_count": 139,
   "metadata": {},
   "outputs": [
    {
     "name": "stdout",
     "output_type": "stream",
     "text": [
      "[PLS] Test set MSE =  1903417.1863542232\n"
     ]
    }
   ],
   "source": [
    "# #The lowest CV error occurs when M = 17.\n",
    "\n",
    "pls = PLSRegression(n_components=17)\n",
    "pls.fit(scale(x_train3), y_train3)\n",
    "y_pred = pls.predict(scale(x_test3))\n",
    "\n",
    "print(\"[PLS] Test set MSE = \", mean_squared_error(y_test3, y_pred))\n"
   ]
  },
  {
   "cell_type": "markdown",
   "metadata": {},
   "source": [
    "**(g) Comment on the results obtained. How accurately can we predict the number of college applications received? Is there much difference among the test errors resulting from these five approaches?**"
   ]
  },
  {
   "cell_type": "markdown",
   "metadata": {},
   "source": [
    "we have \n",
    "\n",
    "MSE for linear  1022430.0889255339\n",
    "MSE for Ridge 1017884.1512982695\n",
    "MSE for Lasso 1017794.3015363528\n",
    "MSE for PCR 6425582.650634707\n",
    "MSE for PLS  1903417.1863542232\n",
    "\n",
    "We can see that Lasso and Ridge perform better than the rest on this data set when predicting the number of college applications received. The linear model is not that far away from the former two. PCR and PLS performance is bad, PCR being the worst. \n"
   ]
  },
  {
   "cell_type": "markdown",
   "metadata": {},
   "source": [
    "# 9. (35pt)"
   ]
  },
  {
   "cell_type": "markdown",
   "metadata": {},
   "source": [
    "We have seen that as the number of features used in a model increases, the training error will necessarily decrease, but the test error may not. We will now explore this in a simulated data set.\n",
    "\n",
    "**(a) Generate a data set with $p=20$ features, $n=1,000$ observations, and an associated quantitative response vector generated according to the model**\n",
    "$$\n",
    "Y=X \\beta+\\epsilon\n",
    "$$\n",
    "**where $\\beta$ has some elements that are exactly equal to zero (No limits on the number of zeros).**"
   ]
  },
  {
   "cell_type": "code",
   "execution_count": 2,
   "metadata": {},
   "outputs": [
    {
     "data": {
      "text/html": [
       "<div>\n",
       "<style scoped>\n",
       "    .dataframe tbody tr th:only-of-type {\n",
       "        vertical-align: middle;\n",
       "    }\n",
       "\n",
       "    .dataframe tbody tr th {\n",
       "        vertical-align: top;\n",
       "    }\n",
       "\n",
       "    .dataframe thead th {\n",
       "        text-align: right;\n",
       "    }\n",
       "</style>\n",
       "<table border=\"1\" class=\"dataframe\">\n",
       "  <thead>\n",
       "    <tr style=\"text-align: right;\">\n",
       "      <th></th>\n",
       "      <th>0</th>\n",
       "      <th>1</th>\n",
       "      <th>2</th>\n",
       "      <th>3</th>\n",
       "      <th>4</th>\n",
       "      <th>5</th>\n",
       "      <th>6</th>\n",
       "      <th>7</th>\n",
       "      <th>8</th>\n",
       "      <th>9</th>\n",
       "      <th>...</th>\n",
       "      <th>11</th>\n",
       "      <th>12</th>\n",
       "      <th>13</th>\n",
       "      <th>14</th>\n",
       "      <th>15</th>\n",
       "      <th>16</th>\n",
       "      <th>17</th>\n",
       "      <th>18</th>\n",
       "      <th>19</th>\n",
       "      <th>y</th>\n",
       "    </tr>\n",
       "  </thead>\n",
       "  <tbody>\n",
       "    <tr>\n",
       "      <th>0</th>\n",
       "      <td>-2.552990</td>\n",
       "      <td>0.653619</td>\n",
       "      <td>0.864436</td>\n",
       "      <td>-0.742165</td>\n",
       "      <td>2.269755</td>\n",
       "      <td>-1.454366</td>\n",
       "      <td>0.045759</td>\n",
       "      <td>-0.187184</td>\n",
       "      <td>1.532779</td>\n",
       "      <td>1.469359</td>\n",
       "      <td>...</td>\n",
       "      <td>0.378163</td>\n",
       "      <td>-0.887786</td>\n",
       "      <td>-1.980796</td>\n",
       "      <td>-0.347912</td>\n",
       "      <td>0.156349</td>\n",
       "      <td>1.230291</td>\n",
       "      <td>1.202380</td>\n",
       "      <td>-0.387327</td>\n",
       "      <td>-0.302303</td>\n",
       "      <td>2.391560</td>\n",
       "    </tr>\n",
       "    <tr>\n",
       "      <th>1</th>\n",
       "      <td>-1.048553</td>\n",
       "      <td>-1.420018</td>\n",
       "      <td>-1.706270</td>\n",
       "      <td>1.950775</td>\n",
       "      <td>-0.509652</td>\n",
       "      <td>-0.438074</td>\n",
       "      <td>-1.252795</td>\n",
       "      <td>0.777490</td>\n",
       "      <td>-1.613898</td>\n",
       "      <td>-0.212740</td>\n",
       "      <td>...</td>\n",
       "      <td>0.386902</td>\n",
       "      <td>-0.510805</td>\n",
       "      <td>-1.180632</td>\n",
       "      <td>-0.028182</td>\n",
       "      <td>0.428332</td>\n",
       "      <td>0.066517</td>\n",
       "      <td>0.302472</td>\n",
       "      <td>-0.634322</td>\n",
       "      <td>-0.362741</td>\n",
       "      <td>-1.301358</td>\n",
       "    </tr>\n",
       "    <tr>\n",
       "      <th>2</th>\n",
       "      <td>-0.672460</td>\n",
       "      <td>-0.359553</td>\n",
       "      <td>-0.813146</td>\n",
       "      <td>-1.726283</td>\n",
       "      <td>0.177426</td>\n",
       "      <td>-0.401781</td>\n",
       "      <td>-1.630198</td>\n",
       "      <td>0.462782</td>\n",
       "      <td>-0.907298</td>\n",
       "      <td>0.051945</td>\n",
       "      <td>...</td>\n",
       "      <td>0.128983</td>\n",
       "      <td>1.139401</td>\n",
       "      <td>-1.234826</td>\n",
       "      <td>0.402342</td>\n",
       "      <td>-0.684810</td>\n",
       "      <td>-0.870797</td>\n",
       "      <td>-0.578850</td>\n",
       "      <td>-0.311553</td>\n",
       "      <td>0.056165</td>\n",
       "      <td>-7.144797</td>\n",
       "    </tr>\n",
       "    <tr>\n",
       "      <th>3</th>\n",
       "      <td>-1.165150</td>\n",
       "      <td>0.900826</td>\n",
       "      <td>0.465662</td>\n",
       "      <td>-1.536244</td>\n",
       "      <td>1.488252</td>\n",
       "      <td>1.895889</td>\n",
       "      <td>1.178780</td>\n",
       "      <td>-0.179925</td>\n",
       "      <td>-1.070753</td>\n",
       "      <td>1.054452</td>\n",
       "      <td>...</td>\n",
       "      <td>1.222445</td>\n",
       "      <td>0.208275</td>\n",
       "      <td>0.976639</td>\n",
       "      <td>0.356366</td>\n",
       "      <td>0.706573</td>\n",
       "      <td>0.010500</td>\n",
       "      <td>1.785870</td>\n",
       "      <td>0.126912</td>\n",
       "      <td>0.401989</td>\n",
       "      <td>-0.337956</td>\n",
       "    </tr>\n",
       "    <tr>\n",
       "      <th>4</th>\n",
       "      <td>1.883151</td>\n",
       "      <td>-1.347759</td>\n",
       "      <td>-1.270485</td>\n",
       "      <td>0.969397</td>\n",
       "      <td>-1.173123</td>\n",
       "      <td>1.943621</td>\n",
       "      <td>-0.413619</td>\n",
       "      <td>-0.747455</td>\n",
       "      <td>1.922942</td>\n",
       "      <td>1.480515</td>\n",
       "      <td>...</td>\n",
       "      <td>0.906045</td>\n",
       "      <td>-0.861226</td>\n",
       "      <td>1.910065</td>\n",
       "      <td>-0.268003</td>\n",
       "      <td>0.802456</td>\n",
       "      <td>0.947252</td>\n",
       "      <td>-0.155010</td>\n",
       "      <td>0.614079</td>\n",
       "      <td>0.922207</td>\n",
       "      <td>1.908265</td>\n",
       "    </tr>\n",
       "    <tr>\n",
       "      <th>...</th>\n",
       "      <td>...</td>\n",
       "      <td>...</td>\n",
       "      <td>...</td>\n",
       "      <td>...</td>\n",
       "      <td>...</td>\n",
       "      <td>...</td>\n",
       "      <td>...</td>\n",
       "      <td>...</td>\n",
       "      <td>...</td>\n",
       "      <td>...</td>\n",
       "      <td>...</td>\n",
       "      <td>...</td>\n",
       "      <td>...</td>\n",
       "      <td>...</td>\n",
       "      <td>...</td>\n",
       "      <td>...</td>\n",
       "      <td>...</td>\n",
       "      <td>...</td>\n",
       "      <td>...</td>\n",
       "      <td>...</td>\n",
       "      <td>...</td>\n",
       "    </tr>\n",
       "    <tr>\n",
       "      <th>995</th>\n",
       "      <td>1.536483</td>\n",
       "      <td>0.456382</td>\n",
       "      <td>-0.247623</td>\n",
       "      <td>0.948258</td>\n",
       "      <td>0.418407</td>\n",
       "      <td>0.465256</td>\n",
       "      <td>-0.418559</td>\n",
       "      <td>-1.792458</td>\n",
       "      <td>-0.081629</td>\n",
       "      <td>0.123104</td>\n",
       "      <td>...</td>\n",
       "      <td>0.307575</td>\n",
       "      <td>0.970342</td>\n",
       "      <td>-1.141963</td>\n",
       "      <td>-0.239104</td>\n",
       "      <td>0.180759</td>\n",
       "      <td>1.352565</td>\n",
       "      <td>-2.138971</td>\n",
       "      <td>-1.820051</td>\n",
       "      <td>1.422115</td>\n",
       "      <td>6.428179</td>\n",
       "    </tr>\n",
       "    <tr>\n",
       "      <th>996</th>\n",
       "      <td>-0.852593</td>\n",
       "      <td>-0.179755</td>\n",
       "      <td>-0.843111</td>\n",
       "      <td>-0.990142</td>\n",
       "      <td>1.751879</td>\n",
       "      <td>-0.602892</td>\n",
       "      <td>1.287282</td>\n",
       "      <td>-0.219160</td>\n",
       "      <td>0.996325</td>\n",
       "      <td>-1.085306</td>\n",
       "      <td>...</td>\n",
       "      <td>-0.241553</td>\n",
       "      <td>-0.294910</td>\n",
       "      <td>-0.138690</td>\n",
       "      <td>0.909687</td>\n",
       "      <td>-0.229796</td>\n",
       "      <td>-0.512237</td>\n",
       "      <td>0.625726</td>\n",
       "      <td>-0.592289</td>\n",
       "      <td>-0.736915</td>\n",
       "      <td>-0.685316</td>\n",
       "    </tr>\n",
       "    <tr>\n",
       "      <th>997</th>\n",
       "      <td>-0.061139</td>\n",
       "      <td>-0.497147</td>\n",
       "      <td>0.432102</td>\n",
       "      <td>0.977877</td>\n",
       "      <td>0.120829</td>\n",
       "      <td>0.249489</td>\n",
       "      <td>0.067397</td>\n",
       "      <td>-0.176741</td>\n",
       "      <td>0.987143</td>\n",
       "      <td>0.281150</td>\n",
       "      <td>...</td>\n",
       "      <td>-0.242745</td>\n",
       "      <td>-0.911743</td>\n",
       "      <td>-1.327828</td>\n",
       "      <td>0.023258</td>\n",
       "      <td>-1.663408</td>\n",
       "      <td>0.569723</td>\n",
       "      <td>-0.788811</td>\n",
       "      <td>0.205704</td>\n",
       "      <td>0.342916</td>\n",
       "      <td>1.707832</td>\n",
       "    </tr>\n",
       "    <tr>\n",
       "      <th>998</th>\n",
       "      <td>-0.755901</td>\n",
       "      <td>0.919071</td>\n",
       "      <td>1.534184</td>\n",
       "      <td>1.063159</td>\n",
       "      <td>-0.708948</td>\n",
       "      <td>1.854091</td>\n",
       "      <td>0.682429</td>\n",
       "      <td>-0.877648</td>\n",
       "      <td>-0.980262</td>\n",
       "      <td>2.394037</td>\n",
       "      <td>...</td>\n",
       "      <td>2.018161</td>\n",
       "      <td>0.066968</td>\n",
       "      <td>2.736475</td>\n",
       "      <td>-1.012997</td>\n",
       "      <td>0.271662</td>\n",
       "      <td>-0.108997</td>\n",
       "      <td>-0.057259</td>\n",
       "      <td>-1.058931</td>\n",
       "      <td>-0.326528</td>\n",
       "      <td>4.643885</td>\n",
       "    </tr>\n",
       "    <tr>\n",
       "      <th>999</th>\n",
       "      <td>0.330046</td>\n",
       "      <td>-0.000480</td>\n",
       "      <td>0.818116</td>\n",
       "      <td>0.428214</td>\n",
       "      <td>-2.503947</td>\n",
       "      <td>0.120481</td>\n",
       "      <td>0.807893</td>\n",
       "      <td>0.602121</td>\n",
       "      <td>-0.865190</td>\n",
       "      <td>-0.153320</td>\n",
       "      <td>...</td>\n",
       "      <td>-0.060763</td>\n",
       "      <td>0.532866</td>\n",
       "      <td>0.764401</td>\n",
       "      <td>-0.856083</td>\n",
       "      <td>-1.682340</td>\n",
       "      <td>0.653069</td>\n",
       "      <td>0.930255</td>\n",
       "      <td>0.405183</td>\n",
       "      <td>0.204002</td>\n",
       "      <td>-1.572432</td>\n",
       "    </tr>\n",
       "  </tbody>\n",
       "</table>\n",
       "<p>1000 rows × 21 columns</p>\n",
       "</div>"
      ],
      "text/plain": [
       "            0         1         2         3         4         5         6  \\\n",
       "0   -2.552990  0.653619  0.864436 -0.742165  2.269755 -1.454366  0.045759   \n",
       "1   -1.048553 -1.420018 -1.706270  1.950775 -0.509652 -0.438074 -1.252795   \n",
       "2   -0.672460 -0.359553 -0.813146 -1.726283  0.177426 -0.401781 -1.630198   \n",
       "3   -1.165150  0.900826  0.465662 -1.536244  1.488252  1.895889  1.178780   \n",
       "4    1.883151 -1.347759 -1.270485  0.969397 -1.173123  1.943621 -0.413619   \n",
       "..        ...       ...       ...       ...       ...       ...       ...   \n",
       "995  1.536483  0.456382 -0.247623  0.948258  0.418407  0.465256 -0.418559   \n",
       "996 -0.852593 -0.179755 -0.843111 -0.990142  1.751879 -0.602892  1.287282   \n",
       "997 -0.061139 -0.497147  0.432102  0.977877  0.120829  0.249489  0.067397   \n",
       "998 -0.755901  0.919071  1.534184  1.063159 -0.708948  1.854091  0.682429   \n",
       "999  0.330046 -0.000480  0.818116  0.428214 -2.503947  0.120481  0.807893   \n",
       "\n",
       "            7         8         9  ...        11        12        13  \\\n",
       "0   -0.187184  1.532779  1.469359  ...  0.378163 -0.887786 -1.980796   \n",
       "1    0.777490 -1.613898 -0.212740  ...  0.386902 -0.510805 -1.180632   \n",
       "2    0.462782 -0.907298  0.051945  ...  0.128983  1.139401 -1.234826   \n",
       "3   -0.179925 -1.070753  1.054452  ...  1.222445  0.208275  0.976639   \n",
       "4   -0.747455  1.922942  1.480515  ...  0.906045 -0.861226  1.910065   \n",
       "..        ...       ...       ...  ...       ...       ...       ...   \n",
       "995 -1.792458 -0.081629  0.123104  ...  0.307575  0.970342 -1.141963   \n",
       "996 -0.219160  0.996325 -1.085306  ... -0.241553 -0.294910 -0.138690   \n",
       "997 -0.176741  0.987143  0.281150  ... -0.242745 -0.911743 -1.327828   \n",
       "998 -0.877648 -0.980262  2.394037  ...  2.018161  0.066968  2.736475   \n",
       "999  0.602121 -0.865190 -0.153320  ... -0.060763  0.532866  0.764401   \n",
       "\n",
       "           14        15        16        17        18        19         y  \n",
       "0   -0.347912  0.156349  1.230291  1.202380 -0.387327 -0.302303  2.391560  \n",
       "1   -0.028182  0.428332  0.066517  0.302472 -0.634322 -0.362741 -1.301358  \n",
       "2    0.402342 -0.684810 -0.870797 -0.578850 -0.311553  0.056165 -7.144797  \n",
       "3    0.356366  0.706573  0.010500  1.785870  0.126912  0.401989 -0.337956  \n",
       "4   -0.268003  0.802456  0.947252 -0.155010  0.614079  0.922207  1.908265  \n",
       "..        ...       ...       ...       ...       ...       ...       ...  \n",
       "995 -0.239104  0.180759  1.352565 -2.138971 -1.820051  1.422115  6.428179  \n",
       "996  0.909687 -0.229796 -0.512237  0.625726 -0.592289 -0.736915 -0.685316  \n",
       "997  0.023258 -1.663408  0.569723 -0.788811  0.205704  0.342916  1.707832  \n",
       "998 -1.012997  0.271662 -0.108997 -0.057259 -1.058931 -0.326528  4.643885  \n",
       "999 -0.856083 -1.682340  0.653069  0.930255  0.405183  0.204002 -1.572432  \n",
       "\n",
       "[1000 rows x 21 columns]"
      ]
     },
     "execution_count": 2,
     "metadata": {},
     "output_type": "execute_result"
    }
   ],
   "source": [
    "\n",
    "np.random.seed(0)\n",
    "\n",
    "c = 0.01\n",
    "B = np.random.randn(20, 1)\n",
    "x = np.random.randn(1000, 20)\n",
    "y = np.dot(x, B) + c * np.random.randn(1000, 1)\n",
    "df_ = pd.DataFrame(x)\n",
    "df_['y'] = y\n",
    "df_\n",
    "\n",
    "\n"
   ]
  },
  {
   "cell_type": "markdown",
   "metadata": {},
   "source": [
    "**(b) Split your data set into a training set containing 100 observations and a test set containing 900 observations.**"
   ]
  },
  {
   "cell_type": "code",
   "execution_count": 3,
   "metadata": {},
   "outputs": [
    {
     "name": "stdout",
     "output_type": "stream",
     "text": [
      "(100, 20) (100,) (900, 20) (900,)\n"
     ]
    }
   ],
   "source": [
    "df_train, df_test = train_test_split(df_, test_size=0.9, random_state=0)\n",
    "x_train, y_train = df_train.drop('y', axis=1), df_train['y']\n",
    "x_test, y_test = df_test.drop('y', axis=1), df_test['y']\n",
    "print(x_train.shape, y_train.shape, x_test.shape, y_test.shape)\n",
    "\n"
   ]
  },
  {
   "cell_type": "markdown",
   "metadata": {},
   "source": [
    "**(c) Perform best subset selection on the training set, and plot the training set MSE associated with the best model of each size (You may use the code from Lab 5) (Run as many number of features as your PC allows.).**"
   ]
  },
  {
   "cell_type": "code",
   "execution_count": 5,
   "metadata": {},
   "outputs": [
    {
     "name": "stderr",
     "output_type": "stream",
     "text": [
      "100%|██████████| 4/4 [00:09<00:00,  2.47s/it]\n"
     ]
    }
   ],
   "source": [
    "\n",
    "from tqdm import tqdm\n",
    "from itertools import combinations\n",
    "from operator import itemgetter\n",
    "import statsmodels.api as sm\n",
    "\n",
    "def best_subsets(dataframe, predictors, response, max_features=8):\n",
    "\n",
    "    \n",
    "    def process_linear_model(features):\n",
    "        \"\"\"\n",
    "\n",
    "        \"\"\"\n",
    "        # Create design Matrix\n",
    "        X = sm.add_constant(dataframe[features])\n",
    "        y = response\n",
    "\n",
    "        model = sm.OLS(y,X).fit()\n",
    "        RSS = model.ssr\n",
    "        return (model, RSS)\n",
    "\n",
    "    def get_best_kth_model(k):\n",
    "\n",
    "        results = []\n",
    "\n",
    "        for combo in combinations(predictors, k):\n",
    "            # process linear model with this combo of features\n",
    "            results.append(process_linear_model(list(combo)))\n",
    "\n",
    "        # sort the models and return the one with the smallest RSS\n",
    "        return sorted(results, key=itemgetter(1)).pop(0)[0]\n",
    "    \n",
    "    models =[]\n",
    "    for k in tqdm(range(1,max_features+1)):\n",
    "        models.append(get_best_kth_model(k))\n",
    "    \n",
    "    return models\n",
    "\n",
    "cols = list(x_train.columns)\n",
    "models = best_subsets(x_train, cols, y_train, 4)"
   ]
  },
  {
   "cell_type": "code",
   "execution_count": 7,
   "metadata": {},
   "outputs": [
    {
     "name": "stderr",
     "output_type": "stream",
     "text": [
      "100%|██████████| 7/7 [04:02<00:00, 34.67s/it]\n"
     ]
    },
    {
     "data": {
      "image/png": "[encoded data removed]",
      "text/plain": [
       "<Figure size 1000x600 with 1 Axes>"
      ]
     },
     "metadata": {},
     "output_type": "display_data"
    }
   ],
   "source": [
    "import numpy as np\n",
    "import matplotlib.pyplot as plt\n",
    "from tqdm import tqdm\n",
    "from itertools import combinations\n",
    "from operator import itemgetter\n",
    "import statsmodels.api as sm\n",
    "\n",
    "\n",
    "def best_subsets(dataframe, predictors, response, max_features=8):\n",
    "    def process_linear_model(features):\n",
    "        X = sm.add_constant(dataframe[features])\n",
    "        y = response\n",
    "        model = sm.OLS(y, X).fit()\n",
    "        RSS = model.ssr\n",
    "        return (model, RSS)\n",
    "\n",
    "    def get_best_kth_model(k):\n",
    "        results = []\n",
    "        for combo in combinations(predictors, k):\n",
    "            results.append(process_linear_model(list(combo)))\n",
    "        return sorted(results, key=itemgetter(1)).pop(0)[0]\n",
    "    \n",
    "    models = []\n",
    "    for k in tqdm(range(1, max_features+1)):\n",
    "        models.append(get_best_kth_model(k))\n",
    "    \n",
    "    return models\n",
    "\n",
    "def calculate_mse(model, X, y):\n",
    "    model_columns = model.params.index[1:]  # Exclude the intercept\n",
    "    X_model = X[model_columns]\n",
    "    y_pred = model.predict(sm.add_constant(X_model))\n",
    "    mse = ((y - y_pred) ** 2).mean()\n",
    "    return mse\n",
    "\n",
    "def plot_mse_vs_model_size(models, X_train, y_train):\n",
    "    num_features = []\n",
    "    mse_values = []\n",
    "    for model in models:\n",
    "        num_features.append(len(model.params) - 1)  # Exclude the intercept\n",
    "        mse = calculate_mse(model, X_train, y_train)\n",
    "        mse_values.append(mse)\n",
    "    \n",
    "    plt.figure(figsize=(10, 6))\n",
    "    plt.plot(num_features, mse_values, marker='o')\n",
    "    plt.title('Training Set MSE vs. Model Size')\n",
    "    plt.xlabel('Number of Features')\n",
    "    plt.ylabel('Mean Squared Error (MSE)')\n",
    "    plt.grid(True)\n",
    "    plt.show()\n",
    "\n",
    "# Assuming df_train is your training set DataFrame,\n",
    "# and 'predictors' contains the column names of the predictors,\n",
    "# and 'response' contains the response variable\n",
    "\n",
    "# Split the data into training and test sets\n",
    "#df_train, df_test = train_test_split(df_data, test_size=0.9, random_state=0)\n",
    "#x_train, y_train = df_train.drop('y', axis=1), df_train['y']\n",
    "#x_test, y_test = df_test.drop('y', axis=1), df_test['y']\n",
    "\n",
    "# Perform best subset selection\n",
    "best_models = best_subsets(x_train, x_train.columns.tolist(), y_train, 15)\n",
    "\n",
    "# Plot the training set MSE associated with the best model of each size\n",
    "plot_mse_vs_model_size(best_models, x_train, y_train)\n"
   ]
  },
  {
   "cell_type": "markdown",
   "metadata": {},
   "source": [
    "**(d) Plot the test set MSE associated with the best model of each size.**"
   ]
  },
  {
   "cell_type": "code",
   "execution_count": 9,
   "metadata": {},
   "outputs": [
    {
     "name": "stderr",
     "output_type": "stream",
     "text": [
      "100%|██████████| 15/15 [40:01<00:00, 160.09s/it]\n"
     ]
    },
    {
     "data": {
      "image/png": "[encoded data removed]",
      "text/plain": [
       "<Figure size 1000x600 with 1 Axes>"
      ]
     },
     "metadata": {},
     "output_type": "display_data"
    }
   ],
   "source": [
    "\n",
    "def best_subsets(dataframe, predictors, response, max_features=8):\n",
    "    def process_linear_model(features):\n",
    "        X = sm.add_constant(dataframe[features])\n",
    "        y = response\n",
    "        model = sm.OLS(y, X).fit()\n",
    "        RSS = model.ssr\n",
    "        return (model, RSS)\n",
    "\n",
    "    def get_best_kth_model(k):\n",
    "        results = []\n",
    "        for combo in combinations(predictors, k):\n",
    "            results.append(process_linear_model(list(combo)))\n",
    "        return sorted(results, key=itemgetter(1)).pop(0)[0]\n",
    "    \n",
    "    models = []\n",
    "    for k in tqdm(range(1, max_features+1)):\n",
    "        models.append(get_best_kth_model(k))\n",
    "    \n",
    "    return models\n",
    "\n",
    "def calculate_mse(model, X, y):\n",
    "    model_columns = model.params.index[1:]  # Exclude the intercept\n",
    "    X_model = X[model_columns]\n",
    "    y_pred = model.predict(sm.add_constant(X_model))\n",
    "    mse = ((y - y_pred) ** 2).mean()\n",
    "    return mse\n",
    "\n",
    "def plot_mse_vs_model_size(models, X_train, y_train, X_test, y_test):\n",
    "    num_features = []\n",
    "    train_mse_values = []\n",
    "    test_mse_values = []\n",
    "    for model in models:\n",
    "        num_features.append(len(model.params) - 1)  # Exclude the intercept\n",
    "        \n",
    "        train_mse = calculate_mse(model, X_train, y_train)\n",
    "        train_mse_values.append(train_mse)\n",
    "        \n",
    "        test_mse = calculate_mse(model, X_test, y_test)\n",
    "        test_mse_values.append(test_mse)\n",
    "    \n",
    "    plt.figure(figsize=(10, 6))\n",
    "    plt.plot(num_features, train_mse_values, marker='o', label='Training MSE')\n",
    "    plt.plot(num_features, test_mse_values, marker='o', label='Test MSE')\n",
    "    plt.title('MSE vs. Model Size')\n",
    "    plt.xlabel('Number of Features')\n",
    "    plt.ylabel('Mean Squared Error (MSE)')\n",
    "    plt.legend()\n",
    "    plt.grid(True)\n",
    "    plt.show()\n",
    "\n",
    "# Perform best subset selection\n",
    "best_models = best_subsets(x_train, x_train.columns.tolist(), y_train, 15)\n",
    "\n",
    "# Plot the training and test set MSE associated with the best model of each size\n",
    "plot_mse_vs_model_size(best_models, x_train, y_train, x_test, y_test)\n"
   ]
  },
  {
   "cell_type": "markdown",
   "metadata": {},
   "source": [
    "**(e) For which model size does the test set MSE take on its minimum value? Comment on your results. If it takes on its minimum value for a model containing only an intercept or a model containing all of the features, then play around with the way that you are generating the data in (a) until you come up with a scenario in which the test set MSE is minimized for an intermediate model size.**"
   ]
  },
  {
   "cell_type": "code",
   "execution_count": 27,
   "metadata": {},
   "outputs": [
    {
     "name": "stdout",
     "output_type": "stream",
     "text": [
      "Test MSE values are not calculated or empty. Please ensure test MSE values are calculated before proceeding.\n"
     ]
    }
   ],
   "source": [
    "# From the above plotting which contains the test MSE for model sizes up to 15, when the \n",
    "#model size is 15 it has minimum test MSE. But, it seems that the test continues to decrease. Hence, it's better use more predictors.\n"
   ]
  },
  {
   "cell_type": "markdown",
   "metadata": {},
   "source": [
    "**(f) How does the model at which the test set MSE is minimized compare to the true model used to generate the data? Comment on the coefficient values.**"
   ]
  },
  {
   "cell_type": "code",
   "execution_count": 25,
   "metadata": {},
   "outputs": [
    {
     "name": "stdout",
     "output_type": "stream",
     "text": [
      "Parameters of the model with minimum test MSE:\n",
      "const   -0.005058\n",
      "0        1.782447\n",
      "1        0.365081\n",
      "2        0.978058\n",
      "3        2.247649\n",
      "4        1.860416\n",
      "5       -0.911597\n",
      "6        0.949206\n",
      "9        0.392146\n",
      "11       1.508765\n",
      "12       0.760017\n",
      "14       0.511929\n",
      "15       0.254808\n",
      "16       1.483025\n",
      "18       0.320488\n",
      "19      -0.866869\n",
      "dtype: float64\n",
      "\n",
      "Parameters of the true model used to generate the data:\n",
      "[[ 1.76405235]\n",
      " [ 0.40015721]\n",
      " [ 0.97873798]\n",
      " [ 2.2408932 ]\n",
      " [ 1.86755799]\n",
      " [-0.97727788]\n",
      " [ 0.95008842]\n",
      " [-0.15135721]\n",
      " [-0.10321885]\n",
      " [ 0.4105985 ]\n",
      " [ 0.14404357]\n",
      " [ 1.45427351]\n",
      " [ 0.76103773]\n",
      " [ 0.12167502]\n",
      " [ 0.44386323]\n",
      " [ 0.33367433]\n",
      " [ 1.49407907]\n",
      " [-0.20515826]\n",
      " [ 0.3130677 ]\n",
      " [-0.85409574]]\n"
     ]
    }
   ],
   "source": [
    "best_model = None\n",
    "min_test_mse = float('inf')\n",
    "\n",
    "# Find the model with the minimum test MSE\n",
    "for model in best_models:\n",
    "    test_mse = calculate_mse(model, x_test, y_test)\n",
    "    if test_mse < min_test_mse:\n",
    "        min_test_mse = test_mse\n",
    "        best_model = model\n",
    "\n",
    "# Retrieve the parameters of the best model\n",
    "best_model_params = best_model.params\n",
    "true_model_params = B  \n",
    "print(\"Parameters of the model with minimum test MSE:\")\n",
    "print(best_model_params)\n",
    "print(\"\\nParameters of the true model used to generate the data:\")\n",
    "print(true_model_params)\n",
    "\n"
   ]
  },
  {
   "cell_type": "markdown",
   "metadata": {},
   "source": [
    "**(g) Create a plot displaying $\\sqrt{\\sum_{j=1}^{p}\\left(\\beta_{j}-\\hat{\\beta}_{j}^{r}\\right)^{2}}$ for a range of values of $r$, where $\\hat{\\beta}_{j}^{r}$ is the $j$ th coefficient estimate for the best model containing $r$ coefficients. Comment on what you observe. How does this compare to the test MSE plot from (d)?**"
   ]
  },
  {
   "cell_type": "code",
   "execution_count": null,
   "metadata": {},
   "outputs": [],
   "source": [
    "\n"
   ]
  },
  {
   "cell_type": "markdown",
   "metadata": {},
   "source": [
    "# 10. Backward stepwise selection (30pt)"
   ]
  },
  {
   "cell_type": "markdown",
   "metadata": {},
   "source": [
    "**In our Lecture 5 and Lab 5, we learned about backward stepwise selection. Implement backward stepwise selection by referring to the implementation of forward stepwise selection from Lab 5. As a result of the function, 1) print the best model (predictors) for each $k$, 2) perform cross validation, and 3) plot CV errors for each $k$ as shown in Section 1.3 of Lab 5. Use ```Hitters``` dataset for this problem.**"
   ]
  },
  {
   "cell_type": "code",
   "execution_count": 22,
   "metadata": {},
   "outputs": [
    {
     "data": {
      "image/png": "[encoded data removed]",
      "text/plain": [
       "<Figure size 1000x600 with 1 Axes>"
      ]
     },
     "metadata": {},
     "output_type": "display_data"
    },
    {
     "name": "stdout",
     "output_type": "stream",
     "text": [
      "Best model with 18 predictors: ('AtBat', 'Hits', 'HmRun', 'Runs', 'RBI', 'Walks', 'Years', 'CAtBat', 'CHits', 'CRuns', 'CRBI', 'CWalks', 'PutOuts', 'Assists', 'Errors', 'League_N', 'Division_W', 'NewLeague_N')\n",
      "Cross-validated Mean Squared Error: 113312.25264465521\n",
      "Best model with 17 predictors: ('AtBat', 'Hits', 'HmRun', 'Runs', 'RBI', 'Walks', 'CAtBat', 'CHits', 'CRuns', 'CRBI', 'CWalks', 'PutOuts', 'Assists', 'Errors', 'League_N', 'Division_W', 'NewLeague_N')\n",
      "Cross-validated Mean Squared Error: 112261.30844835457\n",
      "Best model with 16 predictors: ('AtBat', 'Hits', 'HmRun', 'Runs', 'RBI', 'Walks', 'CAtBat', 'CHits', 'CRuns', 'CRBI', 'CWalks', 'PutOuts', 'Assists', 'Errors', 'League_N', 'Division_W')\n",
      "Cross-validated Mean Squared Error: 111692.3239765269\n",
      "Best model with 15 predictors: ('AtBat', 'Hits', 'HmRun', 'Runs', 'Walks', 'CAtBat', 'CHits', 'CRuns', 'CRBI', 'CWalks', 'PutOuts', 'Assists', 'Errors', 'League_N', 'Division_W')\n",
      "Cross-validated Mean Squared Error: 110073.30302498207\n",
      "Best model with 14 predictors: ('AtBat', 'Hits', 'HmRun', 'Runs', 'Walks', 'CAtBat', 'CRuns', 'CRBI', 'CWalks', 'PutOuts', 'Assists', 'Errors', 'League_N', 'Division_W')\n",
      "Cross-validated Mean Squared Error: 108358.62959088423\n",
      "Best model with 13 predictors: ('AtBat', 'Hits', 'Runs', 'Walks', 'CAtBat', 'CRuns', 'CRBI', 'CWalks', 'PutOuts', 'Assists', 'Errors', 'League_N', 'Division_W')\n",
      "Cross-validated Mean Squared Error: 107430.45384186131\n",
      "Best model with 12 predictors: ('AtBat', 'Hits', 'Runs', 'Walks', 'CAtBat', 'CRuns', 'CRBI', 'CWalks', 'PutOuts', 'Assists', 'League_N', 'Division_W')\n",
      "Cross-validated Mean Squared Error: 106558.26047882585\n",
      "Best model with 11 predictors: ('AtBat', 'Hits', 'Walks', 'CAtBat', 'CRuns', 'CRBI', 'CWalks', 'PutOuts', 'Assists', 'League_N', 'Division_W')\n",
      "Cross-validated Mean Squared Error: 104858.92518592665\n",
      "Best model with 10 predictors: ('AtBat', 'Hits', 'Walks', 'CAtBat', 'CRuns', 'CRBI', 'CWalks', 'PutOuts', 'Assists', 'Division_W')\n",
      "Cross-validated Mean Squared Error: 104983.47836953623\n",
      "Best model with 9 predictors: ('AtBat', 'Hits', 'Walks', 'CAtBat', 'CRuns', 'CRBI', 'CWalks', 'PutOuts', 'Division_W')\n",
      "Cross-validated Mean Squared Error: 105547.08599395587\n",
      "Best model with 8 predictors: ('AtBat', 'Hits', 'Walks', 'CRuns', 'CRBI', 'CWalks', 'PutOuts', 'Division_W')\n",
      "Cross-validated Mean Squared Error: 104565.56004575276\n",
      "Best model with 7 predictors: ('AtBat', 'Hits', 'Walks', 'CRuns', 'CWalks', 'PutOuts', 'Division_W')\n",
      "Cross-validated Mean Squared Error: 106974.26883759622\n",
      "Best model with 6 predictors: ('AtBat', 'Hits', 'Walks', 'CRuns', 'PutOuts', 'Division_W')\n",
      "Cross-validated Mean Squared Error: 109526.44711004323\n",
      "Best model with 5 predictors: ('AtBat', 'Hits', 'Walks', 'CRuns', 'PutOuts')\n",
      "Cross-validated Mean Squared Error: 112508.52254908768\n",
      "Best model with 4 predictors: ('AtBat', 'Hits', 'CRuns', 'PutOuts')\n",
      "Cross-validated Mean Squared Error: 115290.66326830485\n",
      "Best model with 3 predictors: ('Hits', 'CRuns', 'PutOuts')\n",
      "Cross-validated Mean Squared Error: 118762.08780272436\n",
      "Best model with 2 predictors: ('Hits', 'CRuns')\n",
      "Cross-validated Mean Squared Error: 123959.17206643347\n",
      "Best model with 1 predictors: ('CRuns',)\n",
      "Cross-validated Mean Squared Error: 141512.72902344304\n",
      "Best model with 0 predictors: ()\n",
      "Cross-validated Mean Squared Error: 203303.17567987958\n"
     ]
    }
   ],
   "source": [
    "from sklearn.model_selection import KFold\n",
    "\n",
    "\n",
    "def backward_stepwise_selection(data, response, predictors, num_folds=10):\n",
    "    remaining_predictors = predictors[:]\n",
    "    selected_models = []\n",
    "    evaluation_results = {\n",
    "        'selected_predictors': [],\n",
    "        'cross_validation_errors': []\n",
    "    }\n",
    "\n",
    "    kf = KFold(n_splits=num_folds, shuffle=True, random_state=1)\n",
    "\n",
    "    while len(remaining_predictors) > 0:\n",
    "        best_aic = float('inf')\n",
    "        best_model = None\n",
    "        best_predictors = None\n",
    "\n",
    "        for combo in combinations(remaining_predictors, len(remaining_predictors)-1):\n",
    "            X = sm.add_constant(data[list(combo)])\n",
    "            model = sm.OLS(data[response], X).fit()\n",
    "\n",
    "            if model.aic < best_aic:\n",
    "                best_aic = model.aic\n",
    "                best_model = model\n",
    "                best_predictors = combo\n",
    "\n",
    "        remaining_predictors = list(best_predictors)\n",
    "\n",
    "        selected_models.append(best_model)\n",
    "        evaluation_results['selected_predictors'].append(best_predictors)\n",
    "\n",
    "        cross_valid_errors = []\n",
    "        for train_index, test_index in kf.split(data):\n",
    "            cv_train, cv_test = data.iloc[train_index], data.iloc[test_index]\n",
    "            model = sm.OLS(cv_train[response], sm.add_constant(cv_train[list(best_predictors)])).fit()\n",
    "            predictions = model.predict(sm.add_constant(cv_test[list(best_predictors)]))\n",
    "            mse = ((cv_test[response] - predictions) ** 2).mean()\n",
    "            cross_valid_errors.append(mse)\n",
    "\n",
    "        evaluation_results['cross_validation_errors'].append(np.mean(cross_valid_errors))\n",
    "\n",
    "    # Plotting cross-validated errors\n",
    "    plt.figure(figsize=(10, 6))\n",
    "    plt.plot(range(len(evaluation_results['cross_validation_errors'])), evaluation_results['cross_validation_errors'], marker='o', linestyle='-')\n",
    "    plt.xticks(range(len(evaluation_results['cross_validation_errors'])))\n",
    "    plt.xlabel('Number of Predictors')\n",
    "    plt.ylabel('Cross-Validated Mean Squared Error')\n",
    "    plt.title('Backward Stepwise Selection Cross-Validated Error')\n",
    "    plt.gca().invert_xaxis()\n",
    "    plt.show()\n",
    "\n",
    "    return evaluation_results, selected_models\n",
    "\n",
    "# Data preprocessing\n",
    "data = pd.read_csv('Hitters.csv').dropna()\n",
    "dummies = pd.get_dummies(data[['League', 'Division', 'NewLeague']])\n",
    "dummies = dummies.astype(int)\n",
    "df = data.drop(['League', 'Division', 'NewLeague'], axis=1)\n",
    "df = pd.concat([df, dummies[['League_N', 'Division_W', 'NewLeague_N']]], axis=1)\n",
    "\n",
    "response_variable = 'Salary'\n",
    "predictor_variables = [col for col in df.columns if col != response_variable]\n",
    "\n",
    "# Backward stepwise selection\n",
    "evaluation_results, selected_models = backward_stepwise_selection(df, response_variable, predictor_variables)\n",
    "\n",
    "# Display results\n",
    "for idx, selected_features in enumerate(evaluation_results['selected_predictors']):\n",
    "    print(f\"Best model with {len(selected_features)} predictors: {selected_features}\")\n",
    "    print(f\"Cross-validated Mean Squared Error: {evaluation_results['cross_validation_errors'][idx]}\")\n"
   ]
  },
  {
   "cell_type": "markdown",
   "metadata": {},
   "source": [
    "# 11. Ridge regerssion (20pt)"
   ]
  },
  {
   "cell_type": "markdown",
   "metadata": {},
   "source": [
    "**1) Perform direct approach to optimize the ridge regression on ````Boston```` dataset, and store the estimated beta to ````beta_direct````.**"
   ]
  },
  {
   "cell_type": "code",
   "execution_count": 15,
   "metadata": {},
   "outputs": [
    {
     "name": "stdout",
     "output_type": "stream",
     "text": [
      "Directly learned parameters: [34.52550687 -0.94834931]\n"
     ]
    }
   ],
   "source": [
    "from numpy.linalg import inv\n",
    "# load data\n",
    "boston = pd.read_csv('data/Boston.csv')\n",
    "# regression using 2 columns\n",
    "X_train = boston[\"lstat\"].values\n",
    "X_train = sm.add_constant(X_train)\n",
    "y_true = boston['medv'].values\n",
    "\n",
    "# Write your code here\n",
    "lambda_ = 0.1\n",
    "XTX = np.dot(X_train.T, X_train)\n",
    "XTy = np.dot(X_train.T, y_true)\n",
    "beta_direct = np.linalg.solve(XTX + lambda_ * np.identity(X_train.shape[1]), XTy)\n",
    "\n",
    "\n",
    "print(\"Directly learned parameters: {}\".format(beta_direct))"
   ]
  },
  {
   "cell_type": "markdown",
   "metadata": {},
   "source": [
    "**2) Perform gradient descent to optimize the ridge regression on ````Boston```` dataset, and store the estimated beta to ````beta````.**\n",
    "\n",
    "**You have the option to perform either batch gradient descent or mini-batch gradient descent. In the case of mini-batch gradient descent, the batch size can be selected at your discretion.**"
   ]
  },
  {
   "cell_type": "code",
   "execution_count": 16,
   "metadata": {},
   "outputs": [
    {
     "name": "stdout",
     "output_type": "stream",
     "text": [
      "Learned parameters through GD: [34.54876059 -0.94974445]\n"
     ]
    },
    {
     "data": {
      "image/png": "[encoded data removed]",
      "text/plain": [
       "<Figure size 640x480 with 1 Axes>"
      ]
     },
     "metadata": {},
     "output_type": "display_data"
    }
   ],
   "source": [
    "import statsmodels.api as sm\n",
    "\n",
    "# load data\n",
    "boston = pd.read_csv(\"data/Boston.csv\")\n",
    "# regression using all input columns\n",
    "X_train = boston[[\"lstat\"]].values\n",
    "X_train = sm.add_constant(X_train)\n",
    "y_train = boston['medv'].values\n",
    "\n",
    "beta = np.random.rand(2)\n",
    "alpha = 0.001  # The learning Rate\n",
    "epochs = 20000  # The number of iterations to perform gradient descent\n",
    "n = float(len(X_train)) # Number of elements in X\n",
    "\n",
    "cost = []\n",
    "\n",
    "# Performing gradient descent\n",
    "penality = 0.01\n",
    "for epoch in range(epochs): \n",
    "    # Write your code here\n",
    "    y_pred = np.dot(X_train, beta)\n",
    "    errors = y_pred - y_train\n",
    "    beta_gradient = (2 / n) * (np.dot(X_train.T, errors) + penality * beta)\n",
    "    beta -= alpha * beta_gradient\n",
    "    cost.append(np.sum(np.square(errors)) / n + penality * np.sum(np.square(beta)))\n",
    "\n",
    "plt.plot(np.arange(epochs), cost)\n",
    "plt.title(\"Learning curve\")\n",
    "plt.xlabel(\"Epoch\")\n",
    "plt.ylabel(r\"J($\\beta$)\");\n",
    "\n",
    "print(\"Learned parameters through GD: {}\".format(beta))"
   ]
  },
  {
   "cell_type": "code",
   "execution_count": null,
   "metadata": {},
   "outputs": [],
   "source": []
  }
 ],
 "metadata": {
  "kernelspec": {
   "display_name": "Python 3 (ipykernel)",
   "language": "python",
   "name": "python3"
  },
  "language_info": {
   "codemirror_mode": {
    "name": "ipython",
    "version": 3
   },
   "file_extension": ".py",
   "mimetype": "text/x-python",
   "name": "python",
   "nbconvert_exporter": "python",
   "pygments_lexer": "ipython3",
   "version": "3.11.7"
  }
 },
 "nbformat": 4,
 "nbformat_minor": 4
}
